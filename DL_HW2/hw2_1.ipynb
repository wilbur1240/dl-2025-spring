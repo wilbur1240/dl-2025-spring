{
 "cells": [
  {
   "cell_type": "markdown",
   "id": "d8329778",
   "metadata": {},
   "source": [
    "# HW2-1 Text classification"
   ]
  },
  {
   "cell_type": "markdown",
   "id": "41f3c847",
   "metadata": {},
   "source": [
    "### preprocessing"
   ]
  },
  {
   "cell_type": "code",
   "execution_count": 3,
   "id": "a8c0b704",
   "metadata": {},
   "outputs": [
    {
     "name": "stdout",
     "output_type": "stream",
     "text": [
      "Loaded 135608 samples\n",
      "Example: {'id': 0, 'headline': 'Trump Officials Repeatedly Violated Hatch Act, Probe Finds', 'short_description': 'At least 13 former Trump administration officials violated the law by intermingling campaigning with their official government duties, according to a new investigation.', 'label': 0.0}\n",
      "Vocab size: 75541\n",
      "Input tensor shape: torch.Size([135608, 310])\n",
      "Labels tensor shape: torch.Size([135608])\n"
     ]
    }
   ],
   "source": [
    "import spacy\n",
    "from collections import Counter\n",
    "import torch\n",
    "import torch.nn as nn\n",
    "import torch.nn.functional as F\n",
    "import json\n",
    "\n",
    "json_file = './1_data/News_train.json'\n",
    "dataset = []\n",
    "with open(json_file, 'r') as f:\n",
    "    for line in f:\n",
    "        if line.strip():\n",
    "            dataset.append(json.loads(line))\n",
    "\n",
    "print(f\"Loaded {len(dataset)} samples\")\n",
    "print(f\"Example: {dataset[0]}\")\n",
    "\n",
    "# Load spaCy tokenizer\n",
    "nlp = spacy.load(\"en_core_web_sm\")\n",
    "\n",
    "tokenized_texts = []\n",
    "labels = []\n",
    "vocab_counter = Counter()\n",
    "\n",
    "for item in dataset:\n",
    "    text = f\"{item['headline']} {item['short_description']}\"\n",
    "    label = item['label']\n",
    "\n",
    "    tokens = [token.text.lower() for token in nlp(text)]\n",
    "    tokenized_texts.append(tokens)\n",
    "    labels.append(label)\n",
    "\n",
    "    vocab_counter.update(tokens)\n",
    "\n",
    "# Build vocab\n",
    "vocab = {\"<PAD>\": 0, \"<UNK>\": 1}\n",
    "for word in vocab_counter:\n",
    "    vocab[word] = len(vocab)\n",
    "\n",
    "print(f\"Vocab size: {len(vocab)}\")\n",
    "\n",
    "max_len = max(len(tokens) for tokens in tokenized_texts)\n",
    "sequences = []\n",
    "\n",
    "for tokens in tokenized_texts:\n",
    "    seq = [vocab.get(token, vocab[\"<UNK>\"]) for token in tokens]\n",
    "    seq += [vocab[\"<PAD>\"]] * (max_len - len(seq))\n",
    "    sequences.append(seq)\n",
    "\n",
    "# Convert input, label to tensor\n",
    "input_tensor = torch.tensor(sequences)\n",
    "labels_tensor = torch.tensor(labels)\n",
    "\n",
    "print(f\"Input tensor shape: {input_tensor.shape}\")\n",
    "print(f\"Labels tensor shape: {labels_tensor.shape}\")"
   ]
  },
  {
   "cell_type": "code",
   "execution_count": 4,
   "id": "2a9d3bd0",
   "metadata": {},
   "outputs": [],
   "source": [
    "from torch.utils.data import Dataset, DataLoader\n",
    "\n",
    "class NewsDataset(Dataset):\n",
    "    def __init__(self, input_tensor, labels_tensor):\n",
    "        self.inputs = input_tensor\n",
    "        self.labels = labels_tensor\n",
    "\n",
    "    def __len__(self):\n",
    "        return len(self.labels)\n",
    "    \n",
    "    def __getitem__(self, idx):\n",
    "        return self.inputs[idx], self.labels[idx]\n",
    "    \n",
    "class TestNewsDataset(Dataset):\n",
    "    def __init__(self, iput_tensor, ids):\n",
    "        self.inputs = input_tensor\n",
    "        self.ids = ids\n",
    "\n",
    "    def __len__(self):\n",
    "        return len(self.ids)\n",
    "    \n",
    "    def __getitem__(self, idx):\n",
    "        return self.inputs[idx], self.ids[idx]\n",
    "    \n",
    "dataset = NewsDataset(input_tensor, labels_tensor)\n",
    "batch_size = 32\n",
    "dataloader = DataLoader(dataset, batch_size=batch_size, shuffle=True)"
   ]
  },
  {
   "cell_type": "markdown",
   "id": "4ad09b40",
   "metadata": {},
   "source": [
    "### Build Transformer "
   ]
  },
  {
   "cell_type": "code",
   "execution_count": 5,
   "id": "f0f69c2f",
   "metadata": {},
   "outputs": [],
   "source": [
    "import math\n",
    "\n",
    "class PositionalEncoding(nn.Module):\n",
    "    def __init__(self, d_model, max_len=512):\n",
    "        super().__init__()\n",
    "        pe = torch.zeros(max_len, d_model)\n",
    "        position = torch.arange(0, max_len).unsqueeze(1).float()\n",
    "        div_term = torch.exp(torch.arange(0, d_model, 2).float() * (-math.log(10000.0) / d_model))\n",
    "        pe[:, 0::2] = torch.sin(position * div_term)\n",
    "        pe[:, 1::2] = torch.cos(position * div_term)\n",
    "        pe = pe.unsqueeze(0)\n",
    "        self.register_buffer('pe', pe)\n",
    "\n",
    "    def forward(self, x):\n",
    "        x = x + self.pe[:, :x.size(1)]\n",
    "        return x\n",
    "    \n",
    "class TransformerEncoderLayer(nn.Module):\n",
    "    def __init__(self, d_model, nhead, dim_feedforward=2048, dropout=0.3):\n",
    "        super().__init__()\n",
    "        self.self_attn = nn.MultiheadAttention(d_model, nhead, dropout=dropout)\n",
    "        self.linear1 = nn.Linear(d_model, dim_feedforward)\n",
    "        self.dropout = nn.Dropout(dropout)\n",
    "        self.linear2 = nn.Linear(dim_feedforward, d_model)\n",
    "        self.norm1 = nn.LayerNorm(d_model)\n",
    "        self.norm2 = nn.LayerNorm(d_model)\n",
    "        self.dropout1 = nn.Dropout(dropout)\n",
    "        self.dropout2 = nn.Dropout(dropout)\n",
    "        \n",
    "    def forward(self, src):\n",
    "        # src shape: (seq_len, batch_size, d_model)\n",
    "        src2, _ = self.self_attn(src, src, src)\n",
    "        src = src + self.dropout1(src2)\n",
    "        src = self.norm1(src)\n",
    "\n",
    "        src2 = self.linear2(self.dropout(F.relu(self.linear1(src))))\n",
    "        src = src + self.dropout2(src2)\n",
    "        src = self.norm2(src)\n",
    "        return src\n",
    "    \n",
    "class TransformerClassifier(nn.Module):\n",
    "    def __init__(self, vocab_size, d_model=64, nhead=4, num_layers=2, num_classes=2, dropout=0.3):\n",
    "        super().__init__()\n",
    "        self.embedding = nn.Embedding(vocab_size, d_model)\n",
    "        self.embedding_dropout = nn.Dropout(dropout)\n",
    "        self.pos_encoder = PositionalEncoding(d_model)\n",
    "        \n",
    "        self.layers = nn.ModuleList([\n",
    "            TransformerEncoderLayer(d_model, nhead, dropout=dropout) for _ in range(num_layers)\n",
    "        ])\n",
    "\n",
    "        self.classifier = nn.Linear(d_model, num_classes)\n",
    "\n",
    "    def forward(self, src):\n",
    "        # src shape: (batch_size, seq_len)\n",
    "        src = self.embedding(src) # (batch_size, seq_len, d_model)\n",
    "        src = self.embedding_dropout(src)\n",
    "        src = self.pos_encoder(src)\n",
    "\n",
    "        src = src.permute(1, 0, 2) # (seq_len, batch_size, d_model)\n",
    "\n",
    "        for layer in self.layers:\n",
    "            src = layer(src)\n",
    "\n",
    "        # mean pooling\n",
    "        src = src.mean(dim=0) # (batch_size, d_model)\n",
    "        logits = self.classifier(src)\n",
    "        return logits"
   ]
  },
  {
   "cell_type": "markdown",
   "id": "9aca9fde",
   "metadata": {},
   "source": [
    "### Train example"
   ]
  },
  {
   "cell_type": "code",
   "execution_count": 6,
   "id": "7957f928",
   "metadata": {},
   "outputs": [
    {
     "name": "stdout",
     "output_type": "stream",
     "text": [
      "Using device: cuda\n",
      "Epoch 1/20 | Loss: 1.8030 | Accuracy: 44.6758%\n",
      "Epoch 2/20 | Loss: 1.1515 | Accuracy: 64.8575%\n",
      "Epoch 3/20 | Loss: 0.9317 | Accuracy: 71.6720%\n",
      "Epoch 4/20 | Loss: 0.8254 | Accuracy: 74.8171%\n",
      "Epoch 5/20 | Loss: 0.7554 | Accuracy: 76.8413%\n",
      "Epoch 6/20 | Loss: 0.7036 | Accuracy: 78.1503%\n",
      "Epoch 7/20 | Loss: 0.6596 | Accuracy: 79.4673%\n",
      "Epoch 8/20 | Loss: 0.6209 | Accuracy: 80.4709%\n",
      "Epoch 9/20 | Loss: 0.5878 | Accuracy: 81.3787%\n",
      "Epoch 10/20 | Loss: 0.5579 | Accuracy: 82.0505%\n",
      "Epoch 11/20 | Loss: 0.5304 | Accuracy: 82.8587%\n",
      "Epoch 12/20 | Loss: 0.5050 | Accuracy: 83.5710%\n",
      "Epoch 13/20 | Loss: 0.4849 | Accuracy: 84.1897%\n",
      "Epoch 14/20 | Loss: 0.4659 | Accuracy: 84.7354%\n",
      "Epoch 15/20 | Loss: 0.4496 | Accuracy: 85.2494%\n",
      "Epoch 16/20 | Loss: 0.4341 | Accuracy: 85.7678%\n",
      "Epoch 17/20 | Loss: 0.4214 | Accuracy: 86.0937%\n",
      "Epoch 18/20 | Loss: 0.4107 | Accuracy: 86.2840%\n",
      "Epoch 19/20 | Loss: 0.4026 | Accuracy: 86.5546%\n",
      "Epoch 20/20 | Loss: 0.3901 | Accuracy: 87.0413%\n"
     ]
    }
   ],
   "source": [
    "# Hyperparameters\n",
    "vocab_size = len(vocab)\n",
    "d_model = 32\n",
    "nhead = 2\n",
    "num_layers = 1\n",
    "num_classes = len(set(labels_tensor.tolist()))\n",
    "\n",
    "model = TransformerClassifier(vocab_size, d_model, nhead, num_layers, num_classes, dropout=0.3)\n",
    "\n",
    "device = torch.device(\"cuda\" if torch.cuda.is_available() else \"cpu\")\n",
    "print(f\"Using device: {device}\")\n",
    "model.to(device)\n",
    "\n",
    "criterion = nn.CrossEntropyLoss()\n",
    "optimizer = torch.optim.Adam(model.parameters(), lr=0.001, weight_decay=1e-5)\n",
    "\n",
    "epochs = 20\n",
    "for epoch in range(epochs):\n",
    "    model.train()\n",
    "    total_loss = 0\n",
    "    correct = 0\n",
    "    total = 0\n",
    "\n",
    "    for batch_inputs, batch_labels in dataloader:\n",
    "        batch_inputs = batch_inputs.to(device)\n",
    "        batch_labels = batch_labels.long()\n",
    "        batch_labels = batch_labels.to(device)\n",
    "        optimizer.zero_grad()\n",
    "        outputs = model(batch_inputs)\n",
    "        loss = criterion(outputs, batch_labels)\n",
    "        loss.backward()\n",
    "        optimizer.step()\n",
    "\n",
    "        total_loss += loss.item()\n",
    "\n",
    "        _, predicted = torch.max(outputs, 1)\n",
    "        correct += (predicted == batch_labels).sum().item()\n",
    "        total += batch_labels.size(0)\n",
    "\n",
    "    avg_loss = total_loss / len(dataloader)\n",
    "    acc = correct / total \n",
    "    print(f\"Epoch {epoch+1}/{epochs} | Loss: {avg_loss:.4f} | Accuracy: {acc*100:.4f}%\")"
   ]
  },
  {
   "cell_type": "markdown",
   "id": "122fa281",
   "metadata": {},
   "source": [
    "### Inference"
   ]
  },
  {
   "cell_type": "code",
   "execution_count": 7,
   "id": "6abe8e24",
   "metadata": {},
   "outputs": [
    {
     "name": "stdout",
     "output_type": "stream",
     "text": [
      "Loaded 1000 test samples\n",
      "Predictions saved to predictions.csv\n"
     ]
    }
   ],
   "source": [
    "import json\n",
    "import csv\n",
    "\n",
    "test_file = './1_data/News_test.json'\n",
    "\n",
    "with open(test_file, 'r') as f:\n",
    "    test_dataset = []\n",
    "    for line in f:\n",
    "        if line.strip():\n",
    "            test_dataset.append(json.loads(line))\n",
    "\n",
    "print(f\"Loaded {len(test_dataset)} test samples\")\n",
    "\n",
    "test_tokenized_texts = []\n",
    "test_ids = []\n",
    "\n",
    "for item in test_dataset:\n",
    "    text = f\"{item['headline']} {item['short_description']}\"\n",
    "    tokens = [token.text.lower() for token in nlp(text)]\n",
    "    test_tokenized_texts.append(tokens)\n",
    "    test_ids.append(item['id'])\n",
    "\n",
    "test_sequences = []\n",
    "for tokens in test_tokenized_texts:\n",
    "    seq = [vocab.get(token, vocab.get(\"<UNK>\")) for token in tokens]\n",
    "    seq += [vocab[\"<PAD>\"]] * (max_len - len(seq))\n",
    "    test_sequences.append(seq)\n",
    "\n",
    "test_input_tensor = torch.tensor(test_sequences)\n",
    "\n",
    "model.eval()\n",
    "\n",
    "test_input_tensor = test_input_tensor.to(device)\n",
    "\n",
    "test_dataset = TestNewsDataset(test_input_tensor, test_ids)\n",
    "test_loader = DataLoader(test_dataset, batch_size=batch_size, shuffle=False)\n",
    "\n",
    "results = []\n",
    "\n",
    "with torch.no_grad():\n",
    "    for batch_inputs, batch_ids in test_loader:\n",
    "        batch_inputs = batch_inputs.to(device)\n",
    "        outputs = model(batch_inputs)\n",
    "        _, predicted = torch.max(outputs, 1)\n",
    "        for id_, label in zip(batch_ids, predicted.cpu()):\n",
    "            results.append((id_.item(), label.item()))\n",
    "\n",
    "output_file = 'predictions.csv'\n",
    "\n",
    "with open(output_file, 'w', newline='') as csvfile:\n",
    "    writer = csv.writer(csvfile)\n",
    "    writer.writerow([\"ID\", \"label\"])\n",
    "    for id_, label in results:\n",
    "        writer.writerow([id_, label])\n",
    "\n",
    "print(f\"Predictions saved to {output_file}\")"
   ]
  },
  {
   "cell_type": "code",
   "execution_count": 32,
   "id": "a5464b53",
   "metadata": {},
   "outputs": [
    {
     "name": "stdout",
     "output_type": "stream",
     "text": [
      "OOV in train: 0, OOV in test: 330\n"
     ]
    }
   ],
   "source": [
    "num_unk_train = sum(seq.count(vocab.get(\"<UNK>\", 1)) for seq in input_tensor.tolist())\n",
    "num_unk_test = sum(seq.count(vocab.get(\"<UNK>\", 1)) for seq in test_input_tensor.tolist())\n",
    "print(f\"OOV in train: {num_unk_train}, OOV in test: {num_unk_test}\")\n"
   ]
  },
  {
   "cell_type": "code",
   "execution_count": 34,
   "id": "2bd79a6c",
   "metadata": {},
   "outputs": [
    {
     "name": "stdout",
     "output_type": "stream",
     "text": [
      "OOV rate: 0.11%\n"
     ]
    }
   ],
   "source": [
    "total_tokens = sum(len(seq) for seq in test_input_tensor.tolist())\n",
    "oov_rate = num_unk_test / total_tokens * 100\n",
    "print(f\"OOV rate: {oov_rate:.2f}%\")\n"
   ]
  },
  {
   "cell_type": "code",
   "execution_count": 35,
   "id": "22e21ecc",
   "metadata": {},
   "outputs": [
    {
     "name": "stdout",
     "output_type": "stream",
     "text": [
      "Sample OOV words: ['balkovec', 'coinbase', 'urie', 'blayre', 'dwen', 'roscosmos', 'noth', 'yung', 'phillie', \"k'waun\", 'caan', 'zelenskyy', 'uyghurs', 'swalwell', 'schnapp', 'waititi', 'armrests', 'naturedly', 'shinn', 'meylemans']\n"
     ]
    }
   ],
   "source": [
    "# Build reverse vocab\n",
    "reverse_vocab = {v: k for k, v in vocab.items()}\n",
    "\n",
    "oov_words = set()\n",
    "for tokens in test_tokenized_texts:\n",
    "    for token in tokens:\n",
    "        if token not in vocab:\n",
    "            oov_words.add(token)\n",
    "\n",
    "print(f\"Sample OOV words: {list(oov_words)[:20]}\")\n"
   ]
  },
  {
   "cell_type": "code",
   "execution_count": 33,
   "id": "d1aa7842",
   "metadata": {},
   "outputs": [
    {
     "name": "stdout",
     "output_type": "stream",
     "text": [
      "Counter({0.0: 31948, 1.0: 17914, 2.0: 14489, 4.0: 9782, 3.0: 9418, 5.0: 8773, 8.0: 6309, 7.0: 5601, 6.0: 5265, 9.0: 5114, 10.0: 4624, 11.0: 4332, 13.0: 4311, 12.0: 4172, 14.0: 3556})\n"
     ]
    }
   ],
   "source": [
    "from collections import Counter\n",
    "print(Counter(labels_tensor.tolist()))"
   ]
  }
 ],
 "metadata": {
  "kernelspec": {
   "display_name": "Python 3",
   "language": "python",
   "name": "python3"
  },
  "language_info": {
   "codemirror_mode": {
    "name": "ipython",
    "version": 3
   },
   "file_extension": ".py",
   "mimetype": "text/x-python",
   "name": "python",
   "nbconvert_exporter": "python",
   "pygments_lexer": "ipython3",
   "version": "3.10.12"
  }
 },
 "nbformat": 4,
 "nbformat_minor": 5
}
