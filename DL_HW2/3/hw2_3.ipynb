{
 "cells": [
  {
   "cell_type": "markdown",
   "id": "e9f70ab2",
   "metadata": {},
   "source": [
    "# HW2-3 Image captioning"
   ]
  },
  {
   "cell_type": "markdown",
   "id": "aada0b51",
   "metadata": {},
   "source": [
    "### Library"
   ]
  },
  {
   "cell_type": "code",
   "execution_count": null,
   "id": "f3970b0a",
   "metadata": {},
   "outputs": [],
   "source": [
    "!pip install unsloth pandas pyarrow torch torchvision datasets transformer accelerate bitsandbytes"
   ]
  },
  {
   "cell_type": "code",
   "execution_count": null,
   "id": "2a3cc040",
   "metadata": {},
   "outputs": [],
   "source": [
    "import pandas as pd\n",
    "from PIL import Image\n",
    "from datasets import Dataset\n",
    "import torch\n",
    "from torchvision import transforms\n",
    "from unsloth import FastLanguageModel\n",
    "import json"
   ]
  },
  {
   "cell_type": "markdown",
   "id": "660ab0ce",
   "metadata": {},
   "source": [
    "### Dataset"
   ]
  },
  {
   "cell_type": "code",
   "execution_count": null,
   "id": "10ac499d",
   "metadata": {},
   "outputs": [],
   "source": [
    "train_df = pd.read_parquet('train_data.parquet')\n",
    "valid_df = pd.read_parquet('valid_data.parquet')\n",
    "test_df = pd.read_parquet('test_data.parquet')\n",
    "\n",
    "print(train_df.head())\n",
    "print(valid_df.head())\n",
    "print(test_df.head())"
   ]
  },
  {
   "cell_type": "code",
   "execution_count": null,
   "id": "db653afd",
   "metadata": {},
   "outputs": [],
   "source": [
    "transform = transforms.Compose([\n",
    "    transforms.Resize((224, 224)),\n",
    "    transforms.ToTensor(),\n",
    "])\n",
    "\n",
    "def preprocess(sample):\n",
    "    image = Image.open(sample[\"image\"]).convert(\"RGB\")\n",
    "    image_tensor = transform(image)\n",
    "    return {\n",
    "        \"image\": image_tensor,\n",
    "        \"text\": f\"<|image|>\\n{sample['caption']}\\n\"\n",
    "    }\n",
    "\n",
    "train_ds = Dataset.from_pandas(train_df)\n",
    "train_ds = train_ds.map(preprocess)\n",
    "\n",
    "valid_ds = Dataset.from_pandas(valid_df)\n",
    "valid_ds = valid_ds.map(preprocess)"
   ]
  },
  {
   "cell_type": "markdown",
   "id": "b23d318c",
   "metadata": {},
   "source": [
    "### Pretrained model"
   ]
  },
  {
   "cell_type": "code",
   "execution_count": null,
   "id": "6e4e12fb",
   "metadata": {},
   "outputs": [],
   "source": [
    "model, tokenizer = FastLanguageModel.from_pretrained(\n",
    "    model_name = \"unsloth/llama-3-vision-11b\",\n",
    "    dtype = torch.float16,\n",
    "    load_in_4bit = True,\n",
    ")"
   ]
  },
  {
   "cell_type": "markdown",
   "id": "82102837",
   "metadata": {},
   "source": [
    "### Finetuning"
   ]
  },
  {
   "cell_type": "code",
   "execution_count": null,
   "id": "af46c80a",
   "metadata": {},
   "outputs": [],
   "source": [
    "FastLanguageModel.for_instructions(model)\n",
    "\n",
    "model.fit(\n",
    "    train_ds, \n",
    "    valid_ds,\n",
    "    tokenizer = tokenizer,\n",
    "    epochs=2,\n",
    "    batch_size = 4,\n",
    "    lr = 2e-5,\n",
    "    lora_r = 64,\n",
    "    lora_alpha = 16,\n",
    "    lora_dropout=0.05\n",
    ")"
   ]
  },
  {
   "cell_type": "markdown",
   "id": "b9c55e33",
   "metadata": {},
   "source": [
    "### Test & Generate Caption"
   ]
  },
  {
   "cell_type": "code",
   "execution_count": null,
   "id": "34fabbc2",
   "metadata": {},
   "outputs": [],
   "source": [
    "results = []\n",
    "\n",
    "device = \"cuda\" if torch.cuda.is_available() else \"cpu\"\n",
    "\n",
    "for row in test_df.itertuples():\n",
    "    img = Image.open(row.image).convert(\"RGB\")\n",
    "    img_tensor = transform(img).unsqueeze(0).to(device)\n",
    "\n",
    "    prompt = \"<|image|>\\nDescribe this image.\\n\"\n",
    "\n",
    "    with torch.no_grad():\n",
    "        output = model.generate(\n",
    "            inputs = tokenizer(prompt, return_tensors='pt').to(device),\n",
    "            images = img_tensor,\n",
    "            max_new_tokens = 50,\n",
    "            do_sample = True,\n",
    "            temperature = 0.5\n",
    "        )\n",
    "\n",
    "    caption = tokenizer.decode(output[0], skip_special_tokens=True)\n",
    "    results.append({\n",
    "        \"idx\": row.idx,\n",
    "        \"output\": caption\n",
    "    })\n",
    "\n",
    "with open(\"submission.json\", 'w') as f:\n",
    "    json.dump(results, f, indent=2)"
   ]
  }
 ],
 "metadata": {
  "kernelspec": {
   "display_name": "Python 3",
   "language": "python",
   "name": "python3"
  },
  "language_info": {
   "name": "python",
   "version": "3.10.12"
  }
 },
 "nbformat": 4,
 "nbformat_minor": 5
}
