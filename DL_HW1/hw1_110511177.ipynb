{
 "cells": [
  {
   "cell_type": "markdown",
   "metadata": {},
   "source": [
    "# Library"
   ]
  },
  {
   "cell_type": "code",
   "execution_count": 1,
   "metadata": {},
   "outputs": [],
   "source": [
    "import os\n",
    "import cv2\n",
    "import numpy as np\n",
    "import matplotlib.pyplot as plt"
   ]
  },
  {
   "cell_type": "markdown",
   "metadata": {},
   "source": [
    "## Problem 1"
   ]
  },
  {
   "cell_type": "markdown",
   "metadata": {},
   "source": [
    "### 1-1"
   ]
  },
  {
   "cell_type": "markdown",
   "metadata": {},
   "source": [
    "activation function, loss function"
   ]
  },
  {
   "cell_type": "code",
   "execution_count": 3,
   "metadata": {},
   "outputs": [],
   "source": [
    "def relu(x):\n",
    "    return np.maximum(0, x)\n",
    "\n",
    "def relu_derivative(x):\n",
    "    return (x > 0).astype(float)\n",
    "\n",
    "def softmax(x):\n",
    "    exp_x = np.exp(x - np.max(x, axis=1, keepdims=True))  # Stability\n",
    "    return exp_x / np.sum(exp_x, axis=1, keepdims=True)\n",
    "\n",
    "def cross_entropy_loss(y_pred, y_true):\n",
    "    epsilon = 1e-12  # Avoid log(0)\n",
    "    y_pred = np.clip(y_pred, epsilon, 1. - epsilon)\n",
    "    return -np.mean(np.log(y_pred[np.arange(len(y_true)), y_true]))"
   ]
  },
  {
   "cell_type": "markdown",
   "metadata": {},
   "source": [
    "Forward, backward pass and evaluate accuracy"
   ]
  },
  {
   "cell_type": "code",
   "execution_count": 4,
   "metadata": {},
   "outputs": [],
   "source": [
    "def forward(x, weights, biases):\n",
    "    zs, activations = [], [x]\n",
    "    for i in range(len(weights)):\n",
    "        z = np.dot(activations[-1], weights[i]) + biases[i]\n",
    "        zs.append(z)\n",
    "\n",
    "        if i < len(weights) -1:\n",
    "            a = relu(z)\n",
    "        else:\n",
    "            a = softmax(z)\n",
    "        activations.append(a)\n",
    "    return zs, activations\n",
    "\n",
    "def backward(x, y_true, zs, activations, weights, biases, learning_rate):\n",
    "    L = len(weights)\n",
    "    batch_size = x.shape[0]\n",
    "    \n",
    "    grads_w = [None] * L\n",
    "    grads_b = [None] * L\n",
    "\n",
    "    y_pred = activations[-1]\n",
    "    delta = y_pred.copy()\n",
    "    delta[np.arange(batch_size), y_true] -= 1\n",
    "    delta /= batch_size\n",
    "    \n",
    "    grads_w[-1] = np.dot(activations[L-1].T, delta)\n",
    "    grads_b[-1] = np.sum(delta, axis=0, keepdims=True)\n",
    "\n",
    "    for l in range(L-2, -1, -1):\n",
    "        delta = np.dot(delta, weights[l+1].T) * relu_derivative(zs[l])\n",
    "        grads_w[l] = np.dot(activations[l].T, delta)\n",
    "        grads_b[l] = np.sum(delta, axis=0, keepdims=True)\n",
    "\n",
    "    for i in range(L):\n",
    "        weights[i] -= learning_rate * grads_w[i]\n",
    "        biases[i] -= learning_rate * grads_b[i]\n",
    "\n",
    "def evaluate(x, y_true, weights, biases):\n",
    "    _, activations = forward(x, weights, biases)\n",
    "    predictions = np.argmax(activations[-1], axis=1)\n",
    "    accuracy = np.mean(predictions == y_true)\n",
    "\n",
    "    return accuracy"
   ]
  },
  {
   "cell_type": "markdown",
   "metadata": {},
   "source": [
    "Train the model and track accuracy every 30 iterations"
   ]
  },
  {
   "cell_type": "code",
   "execution_count": 5,
   "metadata": {},
   "outputs": [],
   "source": [
    "def train_model(train_x, train_y, test_x, test_y, weights, biases, epochs=30, batch_size=200, lr=0.005):\n",
    "    train_losses, test_losses = [], []\n",
    "    train_accs, test_accs = [], []\n",
    "\n",
    "    num_batches = train_x.shape[0] // batch_size\n",
    "    step = 0\n",
    "    for epoch in range(epochs):\n",
    "        for i in range(0, train_x.shape[0], batch_size):\n",
    "            xb = train_x[i:i+batch_size]\n",
    "            yb = train_y[i:i+batch_size]\n",
    "\n",
    "            zs, activations = forward(xb, weights, biases)\n",
    "            loss = cross_entropy_loss(activations[-1], yb)\n",
    "            backward(xb, yb, zs, activations, weights, biases, lr)\n",
    "\n",
    "            if step % 30 == 0:\n",
    "                _, train_activations = forward(train_x, weights, biases)\n",
    "                train_loss = cross_entropy_loss(train_activations[-1], train_y)\n",
    "                train_acc = evaluate(train_x, train_y, weights, biases)\n",
    "\n",
    "                _, test_activations = forward(test_x, weights, biases)\n",
    "                test_loss = cross_entropy_loss(test_activations[-1], test_y)\n",
    "                test_acc = evaluate(test_x, test_y, weights, biases)\n",
    "\n",
    "                train_losses.append(train_loss)\n",
    "                test_losses.append(test_loss)\n",
    "                train_accs.append(train_acc)\n",
    "                test_accs.append(test_acc)\n",
    "                print(f\"[Iter {step}] Train Loss: {train_loss:.4f} | Test Loss: {test_loss:.4f} | \"\n",
    "                      f\"Train Acc: {train_acc:.4f} | Test Acc: {test_acc:.4f}\")\n",
    "            step += 1\n",
    "        print(f\"Epoch {epoch+1}: Loss = {loss:.4f}\")\n",
    "    final_train_loss = cross_entropy_loss(forward(train_x, weights, biases)[1][-1], train_y)\n",
    "    final_test_loss = cross_entropy_loss(forward(test_x, weights, biases)[1][-1], test_y)\n",
    "    final_train_acc = evaluate(train_x, train_y, weights, biases)\n",
    "    final_test_acc = evaluate(test_x, test_y, weights, biases)\n",
    "\n",
    "    print(\"\\nFinal Results:\")\n",
    "    print(f\"Train Loss: {final_train_loss:.4f} | Train Accuracy: {final_train_acc:.4f}\")\n",
    "    print(f\"Test  Loss: {final_test_loss:.4f} | Test  Accuracy: {final_test_acc:.4f}\")\n",
    "\n",
    "    return train_losses, test_losses, train_accs, test_accs\n",
    "\n"
   ]
  },
  {
   "cell_type": "markdown",
   "metadata": {},
   "source": [
    "function for plotting learning curves"
   ]
  },
  {
   "cell_type": "code",
   "execution_count": 6,
   "metadata": {},
   "outputs": [],
   "source": [
    "def plot_learning_curves(train_losses, test_losses, train_accs, test_accs):\n",
    "    x = np.arange(len(train_losses)) * 30  # iteration steps\n",
    "\n",
    "    plt.figure()\n",
    "    plt.plot(x, train_losses, label=\"Train Loss\")\n",
    "    plt.plot(x, test_losses, label=\"Test Loss\")\n",
    "    plt.xlabel(\"Iteration\")\n",
    "    plt.ylabel(\"Loss\")\n",
    "    plt.title(\"Cross-Entropy Loss vs Iteration\")\n",
    "    plt.legend()\n",
    "    plt.grid(True)\n",
    "    plt.show()\n",
    "\n",
    "    plt.figure()\n",
    "    plt.plot(x, train_accs, label=\"Train Accuracy\")\n",
    "    plt.plot(x, test_accs, label=\"Test Accuracy\")\n",
    "    plt.xlabel(\"Iteration\")\n",
    "    plt.ylabel(\"Accuracy\")\n",
    "    plt.title(\"Accuracy vs Iteration\")\n",
    "    plt.legend()\n",
    "    plt.grid(True)\n",
    "    plt.show()"
   ]
  },
  {
   "cell_type": "markdown",
   "metadata": {},
   "source": [
    "prepare data and initialize network parameters from weight.npy"
   ]
  },
  {
   "cell_type": "code",
   "execution_count": 7,
   "metadata": {},
   "outputs": [
    {
     "name": "stdout",
     "output_type": "stream",
     "text": [
      "[Iter 0] Train Loss: 20.4072 | Test Loss: 20.4738 | Train Acc: 0.2575 | Test Acc: 0.2552\n",
      "[Iter 30] Train Loss: 7.4697 | Test Loss: 7.7145 | Train Acc: 0.7158 | Test Acc: 0.7073\n",
      "[Iter 60] Train Loss: 6.9097 | Test Loss: 7.2803 | Train Acc: 0.7292 | Test Acc: 0.7152\n",
      "[Iter 90] Train Loss: 6.3144 | Test Loss: 6.7069 | Train Acc: 0.7459 | Test Acc: 0.7328\n",
      "[Iter 120] Train Loss: 5.7103 | Test Loss: 6.1406 | Train Acc: 0.7645 | Test Acc: 0.7513\n",
      "[Iter 150] Train Loss: 5.6350 | Test Loss: 6.0704 | Train Acc: 0.7604 | Test Acc: 0.7444\n",
      "[Iter 180] Train Loss: 5.3664 | Test Loss: 5.8930 | Train Acc: 0.7619 | Test Acc: 0.7448\n",
      "[Iter 210] Train Loss: 5.2202 | Test Loss: 5.7152 | Train Acc: 0.7652 | Test Acc: 0.7483\n",
      "[Iter 240] Train Loss: 5.2023 | Test Loss: 5.6444 | Train Acc: 0.7554 | Test Acc: 0.7377\n",
      "[Iter 270] Train Loss: 4.8389 | Test Loss: 5.3342 | Train Acc: 0.7605 | Test Acc: 0.7433\n",
      "Epoch 1: Loss = 5.2547\n",
      "[Iter 300] Train Loss: 4.5409 | Test Loss: 5.0547 | Train Acc: 0.7651 | Test Acc: 0.7458\n",
      "[Iter 330] Train Loss: 4.5045 | Test Loss: 5.0636 | Train Acc: 0.7571 | Test Acc: 0.7321\n",
      "[Iter 360] Train Loss: 4.3690 | Test Loss: 4.8410 | Train Acc: 0.7472 | Test Acc: 0.7271\n",
      "[Iter 390] Train Loss: 4.1160 | Test Loss: 4.5356 | Train Acc: 0.7511 | Test Acc: 0.7310\n",
      "[Iter 420] Train Loss: 3.9898 | Test Loss: 4.3698 | Train Acc: 0.7523 | Test Acc: 0.7359\n",
      "[Iter 450] Train Loss: 3.7183 | Test Loss: 4.2337 | Train Acc: 0.7523 | Test Acc: 0.7293\n",
      "[Iter 480] Train Loss: 3.6727 | Test Loss: 4.1245 | Train Acc: 0.7399 | Test Acc: 0.7188\n",
      "[Iter 510] Train Loss: 3.4881 | Test Loss: 3.9193 | Train Acc: 0.7490 | Test Acc: 0.7275\n",
      "[Iter 540] Train Loss: 3.3587 | Test Loss: 3.7782 | Train Acc: 0.7462 | Test Acc: 0.7263\n",
      "[Iter 570] Train Loss: 3.2936 | Test Loss: 3.7263 | Train Acc: 0.7310 | Test Acc: 0.7093\n",
      "Epoch 2: Loss = 3.9513\n",
      "[Iter 600] Train Loss: 3.3237 | Test Loss: 3.7831 | Train Acc: 0.7336 | Test Acc: 0.7157\n",
      "[Iter 630] Train Loss: 2.9751 | Test Loss: 3.4384 | Train Acc: 0.7514 | Test Acc: 0.7287\n",
      "[Iter 660] Train Loss: 2.9795 | Test Loss: 3.4392 | Train Acc: 0.7365 | Test Acc: 0.7165\n",
      "[Iter 690] Train Loss: 2.8882 | Test Loss: 3.2864 | Train Acc: 0.7422 | Test Acc: 0.7194\n",
      "[Iter 720] Train Loss: 2.9230 | Test Loss: 3.3126 | Train Acc: 0.7338 | Test Acc: 0.7129\n",
      "[Iter 750] Train Loss: 2.8446 | Test Loss: 3.2817 | Train Acc: 0.7269 | Test Acc: 0.7037\n",
      "[Iter 780] Train Loss: 2.7109 | Test Loss: 3.1605 | Train Acc: 0.7086 | Test Acc: 0.6826\n",
      "[Iter 810] Train Loss: 2.6999 | Test Loss: 3.1384 | Train Acc: 0.7275 | Test Acc: 0.7016\n",
      "[Iter 840] Train Loss: 2.6088 | Test Loss: 3.0646 | Train Acc: 0.7344 | Test Acc: 0.7134\n",
      "[Iter 870] Train Loss: 2.5256 | Test Loss: 3.0000 | Train Acc: 0.7160 | Test Acc: 0.6881\n",
      "Epoch 3: Loss = 2.5450\n",
      "[Iter 900] Train Loss: 2.4669 | Test Loss: 2.9827 | Train Acc: 0.7325 | Test Acc: 0.7064\n",
      "[Iter 930] Train Loss: 2.3794 | Test Loss: 2.9023 | Train Acc: 0.7286 | Test Acc: 0.7007\n",
      "[Iter 960] Train Loss: 2.4708 | Test Loss: 2.9966 | Train Acc: 0.7304 | Test Acc: 0.7050\n",
      "[Iter 990] Train Loss: 2.3405 | Test Loss: 2.8288 | Train Acc: 0.7307 | Test Acc: 0.7051\n",
      "[Iter 1020] Train Loss: 2.3590 | Test Loss: 2.8443 | Train Acc: 0.7247 | Test Acc: 0.6997\n",
      "[Iter 1050] Train Loss: 2.2454 | Test Loss: 2.7890 | Train Acc: 0.7210 | Test Acc: 0.6962\n",
      "[Iter 1080] Train Loss: 2.2488 | Test Loss: 2.8029 | Train Acc: 0.7011 | Test Acc: 0.6745\n",
      "[Iter 1110] Train Loss: 2.2698 | Test Loss: 2.8049 | Train Acc: 0.7172 | Test Acc: 0.6908\n",
      "[Iter 1140] Train Loss: 2.2138 | Test Loss: 2.7384 | Train Acc: 0.7252 | Test Acc: 0.6996\n",
      "[Iter 1170] Train Loss: 2.2334 | Test Loss: 2.7706 | Train Acc: 0.6857 | Test Acc: 0.6563\n",
      "Epoch 4: Loss = 2.0134\n",
      "[Iter 1200] Train Loss: 2.1236 | Test Loss: 2.7096 | Train Acc: 0.7253 | Test Acc: 0.6955\n",
      "[Iter 1230] Train Loss: 2.0180 | Test Loss: 2.6032 | Train Acc: 0.7337 | Test Acc: 0.7012\n",
      "[Iter 1260] Train Loss: 2.0943 | Test Loss: 2.7028 | Train Acc: 0.7238 | Test Acc: 0.6942\n",
      "[Iter 1290] Train Loss: 1.9908 | Test Loss: 2.5576 | Train Acc: 0.7313 | Test Acc: 0.7034\n",
      "[Iter 1320] Train Loss: 1.9922 | Test Loss: 2.5545 | Train Acc: 0.7268 | Test Acc: 0.6996\n",
      "[Iter 1350] Train Loss: 1.9714 | Test Loss: 2.5920 | Train Acc: 0.7207 | Test Acc: 0.6917\n",
      "[Iter 1380] Train Loss: 1.8926 | Test Loss: 2.5434 | Train Acc: 0.7275 | Test Acc: 0.6953\n",
      "[Iter 1410] Train Loss: 1.9597 | Test Loss: 2.5905 | Train Acc: 0.7239 | Test Acc: 0.6934\n",
      "[Iter 1440] Train Loss: 1.9089 | Test Loss: 2.5029 | Train Acc: 0.7299 | Test Acc: 0.7011\n",
      "[Iter 1470] Train Loss: 1.9446 | Test Loss: 2.5440 | Train Acc: 0.6876 | Test Acc: 0.6560\n",
      "Epoch 5: Loss = 1.7481\n",
      "[Iter 1500] Train Loss: 1.8834 | Test Loss: 2.5120 | Train Acc: 0.7266 | Test Acc: 0.6951\n",
      "[Iter 1530] Train Loss: 1.7818 | Test Loss: 2.3961 | Train Acc: 0.7336 | Test Acc: 0.7008\n",
      "[Iter 1560] Train Loss: 1.8340 | Test Loss: 2.4765 | Train Acc: 0.7287 | Test Acc: 0.6986\n",
      "[Iter 1590] Train Loss: 1.7851 | Test Loss: 2.3747 | Train Acc: 0.7349 | Test Acc: 0.7061\n",
      "[Iter 1620] Train Loss: 1.7608 | Test Loss: 2.3633 | Train Acc: 0.7284 | Test Acc: 0.7005\n",
      "[Iter 1650] Train Loss: 1.7234 | Test Loss: 2.3719 | Train Acc: 0.7350 | Test Acc: 0.7062\n",
      "[Iter 1680] Train Loss: 1.6991 | Test Loss: 2.3729 | Train Acc: 0.7311 | Test Acc: 0.6964\n",
      "[Iter 1710] Train Loss: 1.7392 | Test Loss: 2.3814 | Train Acc: 0.7364 | Test Acc: 0.7077\n",
      "[Iter 1740] Train Loss: 1.7320 | Test Loss: 2.3640 | Train Acc: 0.7313 | Test Acc: 0.7005\n",
      "[Iter 1770] Train Loss: 1.7326 | Test Loss: 2.3774 | Train Acc: 0.7013 | Test Acc: 0.6672\n",
      "Epoch 6: Loss = 1.6787\n",
      "[Iter 1800] Train Loss: 1.6884 | Test Loss: 2.3471 | Train Acc: 0.7334 | Test Acc: 0.7007\n",
      "[Iter 1830] Train Loss: 1.6150 | Test Loss: 2.2465 | Train Acc: 0.7422 | Test Acc: 0.7110\n"
     ]
    },
    {
     "ename": "KeyboardInterrupt",
     "evalue": "",
     "output_type": "error",
     "traceback": [
      "\u001b[0;31m---------------------------------------------------------------------------\u001b[0m",
      "\u001b[0;31mKeyboardInterrupt\u001b[0m                         Traceback (most recent call last)",
      "Cell \u001b[0;32mIn[7], line 14\u001b[0m\n\u001b[1;32m     11\u001b[0m weights \u001b[38;5;241m=\u001b[39m [weights_data[\u001b[38;5;124mf\u001b[39m\u001b[38;5;124m\"\u001b[39m\u001b[38;5;124mw\u001b[39m\u001b[38;5;132;01m{\u001b[39;00mi\u001b[38;5;241m+\u001b[39m\u001b[38;5;241m1\u001b[39m\u001b[38;5;132;01m}\u001b[39;00m\u001b[38;5;124m\"\u001b[39m] \u001b[38;5;28;01mfor\u001b[39;00m i \u001b[38;5;129;01min\u001b[39;00m \u001b[38;5;28mrange\u001b[39m(\u001b[38;5;241m3\u001b[39m)]\n\u001b[1;32m     12\u001b[0m biases  \u001b[38;5;241m=\u001b[39m [weights_data[\u001b[38;5;124mf\u001b[39m\u001b[38;5;124m\"\u001b[39m\u001b[38;5;124mb\u001b[39m\u001b[38;5;132;01m{\u001b[39;00mi\u001b[38;5;241m+\u001b[39m\u001b[38;5;241m1\u001b[39m\u001b[38;5;132;01m}\u001b[39;00m\u001b[38;5;124m\"\u001b[39m]\u001b[38;5;241m.\u001b[39mreshape(\u001b[38;5;241m1\u001b[39m, \u001b[38;5;241m-\u001b[39m\u001b[38;5;241m1\u001b[39m) \u001b[38;5;28;01mfor\u001b[39;00m i \u001b[38;5;129;01min\u001b[39;00m \u001b[38;5;28mrange\u001b[39m(\u001b[38;5;241m3\u001b[39m)]\n\u001b[0;32m---> 14\u001b[0m train_losses, test_losses, train_accs, test_accs \u001b[38;5;241m=\u001b[39m \u001b[43mtrain_model\u001b[49m\u001b[43m(\u001b[49m\u001b[43mtrain_x\u001b[49m\u001b[43m,\u001b[49m\u001b[43m \u001b[49m\u001b[43mtrain_y\u001b[49m\u001b[43m,\u001b[49m\u001b[43m \u001b[49m\u001b[43mtest_x\u001b[49m\u001b[43m,\u001b[49m\u001b[43m \u001b[49m\u001b[43mtest_y\u001b[49m\u001b[43m,\u001b[49m\u001b[43m \u001b[49m\u001b[43mweights\u001b[49m\u001b[43m,\u001b[49m\u001b[43m \u001b[49m\u001b[43mbiases\u001b[49m\u001b[43m)\u001b[49m\n\u001b[1;32m     16\u001b[0m plot_learning_curves(train_losses, test_losses, train_accs, test_accs)\n",
      "Cell \u001b[0;32mIn[5], line 12\u001b[0m, in \u001b[0;36mtrain_model\u001b[0;34m(train_x, train_y, test_x, test_y, weights, biases, epochs, batch_size, lr)\u001b[0m\n\u001b[1;32m      9\u001b[0m xb \u001b[38;5;241m=\u001b[39m train_x[i:i\u001b[38;5;241m+\u001b[39mbatch_size]\n\u001b[1;32m     10\u001b[0m yb \u001b[38;5;241m=\u001b[39m train_y[i:i\u001b[38;5;241m+\u001b[39mbatch_size]\n\u001b[0;32m---> 12\u001b[0m zs, activations \u001b[38;5;241m=\u001b[39m \u001b[43mforward\u001b[49m\u001b[43m(\u001b[49m\u001b[43mxb\u001b[49m\u001b[43m,\u001b[49m\u001b[43m \u001b[49m\u001b[43mweights\u001b[49m\u001b[43m,\u001b[49m\u001b[43m \u001b[49m\u001b[43mbiases\u001b[49m\u001b[43m)\u001b[49m\n\u001b[1;32m     13\u001b[0m loss \u001b[38;5;241m=\u001b[39m cross_entropy_loss(activations[\u001b[38;5;241m-\u001b[39m\u001b[38;5;241m1\u001b[39m], yb)\n\u001b[1;32m     14\u001b[0m backward(xb, yb, zs, activations, weights, biases, lr)\n",
      "Cell \u001b[0;32mIn[4], line 4\u001b[0m, in \u001b[0;36mforward\u001b[0;34m(x, weights, biases)\u001b[0m\n\u001b[1;32m      2\u001b[0m zs, activations \u001b[38;5;241m=\u001b[39m [], [x]\n\u001b[1;32m      3\u001b[0m \u001b[38;5;28;01mfor\u001b[39;00m i \u001b[38;5;129;01min\u001b[39;00m \u001b[38;5;28mrange\u001b[39m(\u001b[38;5;28mlen\u001b[39m(weights)):\n\u001b[0;32m----> 4\u001b[0m     z \u001b[38;5;241m=\u001b[39m \u001b[43mnp\u001b[49m\u001b[38;5;241;43m.\u001b[39;49m\u001b[43mdot\u001b[49m\u001b[43m(\u001b[49m\u001b[43mactivations\u001b[49m\u001b[43m[\u001b[49m\u001b[38;5;241;43m-\u001b[39;49m\u001b[38;5;241;43m1\u001b[39;49m\u001b[43m]\u001b[49m\u001b[43m,\u001b[49m\u001b[43m \u001b[49m\u001b[43mweights\u001b[49m\u001b[43m[\u001b[49m\u001b[43mi\u001b[49m\u001b[43m]\u001b[49m\u001b[43m)\u001b[49m \u001b[38;5;241m+\u001b[39m biases[i]\n\u001b[1;32m      5\u001b[0m     zs\u001b[38;5;241m.\u001b[39mappend(z)\n\u001b[1;32m      7\u001b[0m     \u001b[38;5;28;01mif\u001b[39;00m i \u001b[38;5;241m<\u001b[39m \u001b[38;5;28mlen\u001b[39m(weights) \u001b[38;5;241m-\u001b[39m\u001b[38;5;241m1\u001b[39m:\n",
      "File \u001b[0;32m<__array_function__ internals>:5\u001b[0m, in \u001b[0;36mdot\u001b[0;34m(*args, **kwargs)\u001b[0m\n",
      "\u001b[0;31mKeyboardInterrupt\u001b[0m: "
     ]
    }
   ],
   "source": [
    "train_x = np.load('./fashion/train_x.npy') / 255.0\n",
    "train_y = np.load('./fashion/train_y.npy')\n",
    "test_x = np.load('./fashion/test_x.npy') / 255.0\n",
    "test_y = np.load('./fashion/test_y.npy')\n",
    "\n",
    "train_x = train_x.reshape(train_x.shape[0], -1)\n",
    "test_x = test_x.reshape(test_x.shape[0], -1)\n",
    "\n",
    "weights_data = np.load(\"weights.npy\", allow_pickle=True).item()\n",
    "\n",
    "weights = [weights_data[f\"w{i+1}\"] for i in range(3)]\n",
    "biases  = [weights_data[f\"b{i+1}\"].reshape(1, -1) for i in range(3)]\n",
    "\n",
    "train_losses, test_losses, train_accs, test_accs = train_model(train_x, train_y, test_x, test_y, weights, biases)\n",
    "\n",
    "plot_learning_curves(train_losses, test_losses, train_accs, test_accs)"
   ]
  },
  {
   "cell_type": "code",
   "execution_count": 18,
   "metadata": {},
   "outputs": [
    {
     "data": {
      "text/plain": [
       "(60000, 784)"
      ]
     },
     "execution_count": 18,
     "metadata": {},
     "output_type": "execute_result"
    }
   ],
   "source": [
    "train_x.shape"
   ]
  },
  {
   "cell_type": "markdown",
   "metadata": {},
   "source": [
    "## Problem 2"
   ]
  },
  {
   "cell_type": "markdown",
   "metadata": {},
   "source": [
    "## Problem 3"
   ]
  }
 ],
 "metadata": {
  "kernelspec": {
   "display_name": "Python 3",
   "language": "python",
   "name": "python3"
  },
  "language_info": {
   "codemirror_mode": {
    "name": "ipython",
    "version": 3
   },
   "file_extension": ".py",
   "mimetype": "text/x-python",
   "name": "python",
   "nbconvert_exporter": "python",
   "pygments_lexer": "ipython3",
   "version": "3.8.10"
  }
 },
 "nbformat": 4,
 "nbformat_minor": 2
}
