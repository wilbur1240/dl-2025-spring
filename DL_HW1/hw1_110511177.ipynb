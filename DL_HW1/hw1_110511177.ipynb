{
 "cells": [
  {
   "cell_type": "markdown",
   "metadata": {},
   "source": [
    "# Library"
   ]
  },
  {
   "cell_type": "code",
   "execution_count": 6,
   "metadata": {},
   "outputs": [],
   "source": [
    "import os\n",
    "import cv2\n",
    "import numpy as np\n",
    "import matplotlib.pyplot as plt"
   ]
  },
  {
   "cell_type": "markdown",
   "metadata": {},
   "source": [
    "## Problem 1"
   ]
  },
  {
   "cell_type": "markdown",
   "metadata": {},
   "source": [
    "### 1-1"
   ]
  },
  {
   "cell_type": "markdown",
   "metadata": {},
   "source": [
    "activation function, loss function"
   ]
  },
  {
   "cell_type": "code",
   "execution_count": 1,
   "metadata": {},
   "outputs": [],
   "source": [
    "def relu(x):\n",
    "    return np.maximum(0, x)\n",
    "\n",
    "def relu_derivative(x):\n",
    "    return (x > 0).astype(float)\n",
    "\n",
    "def softmax(x):\n",
    "    exp_x = np.exp(x - np.max(x, axis=1, keepdims=True))  # Stability\n",
    "    return exp_x / np.sum(exp_x, axis=1, keepdims=True)\n",
    "\n",
    "def cross_entropy_loss(y_pred, y_true):\n",
    "    epsilon = 1e-12  # Avoid log(0)\n",
    "    y_pred = np.clip(y_pred, epsilon, 1. - epsilon)\n",
    "    return -np.mean(np.log(y_pred[np.arange(len(y_true)), y_true]))"
   ]
  },
  {
   "cell_type": "markdown",
   "metadata": {},
   "source": [
    "Forward, backward pass and evaluate accuracy"
   ]
  },
  {
   "cell_type": "code",
   "execution_count": 8,
   "metadata": {},
   "outputs": [],
   "source": [
    "def forward(x, weights, biases):\n",
    "    zs, activations = [], [x]\n",
    "    for i in range(len(weights)):\n",
    "        z = np.dot(activations[-1], weights[i]) + biases[i]\n",
    "        zs.append(z)\n",
    "\n",
    "        if i < len(weights) -1:\n",
    "            a = relu(z)\n",
    "        else:\n",
    "            a = softmax(z)\n",
    "        activations.append(a)\n",
    "    return zs, activations\n",
    "\n",
    "def backward(x, y_true, zs, activations, weights, biases, learning_rate):\n",
    "    L = len(weights)\n",
    "    batch_size = x.shape[0]\n",
    "    \n",
    "    grads_w = [None] * L\n",
    "    grads_b = [None] * L\n",
    "\n",
    "    y_pred = activations[-1]\n",
    "    delta = y_pred.copy()\n",
    "    delta[np.arange(batch_size), y_true] -= 1\n",
    "    delta /= batch_size\n",
    "    \n",
    "    grads_w[-1] = np.dot(activations[L-1].T, delta)\n",
    "    grads_b[-1] = np.sum(delta, axis=0, keepdims=True)\n",
    "\n",
    "    for l in range(L-2, -1, -1):\n",
    "        delta = np.dot(delta, weights[l+1].T) * relu_derivative(zs[l])\n",
    "        grads_w[l] = np.dot(activations[l].T, delta)\n",
    "        grads_b[l] = np.sum(delta, axis=0, keepdims=True)\n",
    "\n",
    "    for i in range(L):\n",
    "        weights[i] -= learning_rate * grads_w[i]\n",
    "        biases[i] -= learning_rate * grads_b[i]\n",
    "\n",
    "def evaluate(x, y_true, weights, biases):\n",
    "    _, activations = forward(x, weights, biases)\n",
    "    predictions = np.argmax(activations[-1], axis=1)\n",
    "    accuracy = np.mean(predictions == y_true)\n",
    "\n",
    "    return accuracy"
   ]
  },
  {
   "cell_type": "markdown",
   "metadata": {},
   "source": [
    "Train the model and track accuracy every 30 iterations"
   ]
  },
  {
   "cell_type": "code",
   "execution_count": 3,
   "metadata": {},
   "outputs": [],
   "source": [
    "def train_model(train_x, train_y, test_x, test_y, weights, biases, epochs=30, batch_size=200, lr=0.005):\n",
    "    train_losses, test_losses = [], []\n",
    "    train_accs, test_accs = [], []\n",
    "\n",
    "    num_batches = train_x.shape[0] // batch_size\n",
    "    step = 0\n",
    "    for epoch in range(epochs):\n",
    "        for i in range(0, train_x.shape[0], batch_size):\n",
    "            xb = train_x[i:i+batch_size]\n",
    "            yb = train_y[i:i+batch_size]\n",
    "\n",
    "            zs, activations = forward(xb, weights, biases)\n",
    "            loss = cross_entropy_loss(activations[-1], yb)\n",
    "            backward(xb, yb, zs, activations, weights, biases, lr)\n",
    "\n",
    "            if step % 20 == 0:\n",
    "                _, train_activations = forward(train_x, weights, biases)\n",
    "                train_loss = cross_entropy_loss(train_activations[-1], train_y)\n",
    "                train_acc = evaluate(train_x, train_y, weights, biases)\n",
    "\n",
    "                _, test_activations = forward(test_x, weights, biases)\n",
    "                test_loss = cross_entropy_loss(test_activations[-1], test_y)\n",
    "                test_acc = evaluate(test_x, test_y, weights, biases)\n",
    "\n",
    "                train_losses.append(train_loss)\n",
    "                test_losses.append(test_loss)\n",
    "                train_accs.append(train_acc)\n",
    "                test_accs.append(test_acc)\n",
    "                print(f\"[Iter {step}] Train Loss: {train_loss:.4f} | Test Loss: {test_loss:.4f} | \"\n",
    "                      f\"Train Acc: {train_acc:.4f} | Test Acc: {test_acc:.4f}\")\n",
    "            step += 1\n",
    "        print(f\"Epoch {epoch+1}: Loss = {loss:.4f}\")\n",
    "    final_train_loss = cross_entropy_loss(forward(train_x, weights, biases)[1][-1], train_y)\n",
    "    final_test_loss = cross_entropy_loss(forward(test_x, weights, biases)[1][-1], test_y)\n",
    "    final_train_acc = evaluate(train_x, train_y, weights, biases)\n",
    "    final_test_acc = evaluate(test_x, test_y, weights, biases)\n",
    "\n",
    "    print(\"\\nFinal Results:\")\n",
    "    print(f\"Train Loss: {final_train_loss:.4f} | Train Accuracy: {final_train_acc:.4f}\")\n",
    "    print(f\"Test  Loss: {final_test_loss:.4f} | Test  Accuracy: {final_test_acc:.4f}\")\n",
    "\n",
    "    return train_losses, test_losses, train_accs, test_accs\n",
    "\n"
   ]
  },
  {
   "cell_type": "markdown",
   "metadata": {},
   "source": [
    "function for plotting learning curves"
   ]
  },
  {
   "cell_type": "code",
   "execution_count": 4,
   "metadata": {},
   "outputs": [],
   "source": [
    "def plot_learning_curves(train_losses, test_losses, train_accs, test_accs):\n",
    "    x = np.arange(len(train_losses)) * 30  # iteration steps\n",
    "\n",
    "    plt.figure()\n",
    "    plt.plot(x, train_losses, label=\"Train Loss\")\n",
    "    plt.plot(x, test_losses, label=\"Test Loss\")\n",
    "    plt.xlabel(\"Iteration\")\n",
    "    plt.ylabel(\"Loss\")\n",
    "    plt.title(\"Cross-Entropy Loss vs Iteration\")\n",
    "    plt.legend()\n",
    "    plt.grid(True)\n",
    "    plt.show()\n",
    "\n",
    "    plt.figure()\n",
    "    plt.plot(x, train_accs, label=\"Train Accuracy\")\n",
    "    plt.plot(x, test_accs, label=\"Test Accuracy\")\n",
    "    plt.xlabel(\"Iteration\")\n",
    "    plt.ylabel(\"Accuracy\")\n",
    "    plt.title(\"Accuracy vs Iteration\")\n",
    "    plt.legend()\n",
    "    plt.grid(True)\n",
    "    plt.show()"
   ]
  },
  {
   "cell_type": "markdown",
   "metadata": {},
   "source": [
    "prepare data and initialize network parameters from weight.npy"
   ]
  },
  {
   "cell_type": "code",
   "execution_count": null,
   "metadata": {},
   "outputs": [
    {
     "name": "stdout",
     "output_type": "stream",
     "text": [
      "[Iter 0] Train Loss: 20.4072 | Test Loss: 20.4738 | Train Acc: 0.2575 | Test Acc: 0.2552\n"
     ]
    }
   ],
   "source": [
    "train_x = np.load('./fashion/train_x.npy') / 255.0\n",
    "train_y = np.load('./fashion/train_y.npy')\n",
    "test_x = np.load('./fashion/test_x.npy') / 255.0\n",
    "test_y = np.load('./fashion/test_y.npy')\n",
    "\n",
    "train_x = train_x.reshape(train_x.shape[0], -1)\n",
    "test_x = test_x.reshape(test_x.shape[0], -1)\n",
    "\n",
    "weights_data = np.load(\"weights.npy\", allow_pickle=True).item()\n",
    "\n",
    "weights = [weights_data[f\"w{i+1}\"] for i in range(3)]\n",
    "biases  = [weights_data[f\"b{i+1}\"].reshape(1, -1) for i in range(3)]\n",
    "\n",
    "train_losses, test_losses, train_accs, test_accs = train_model(train_x, train_y, test_x, test_y, weights, biases)\n",
    "\n",
    "plot_learning_curves(train_losses, test_losses, train_accs, test_accs)"
   ]
  },
  {
   "cell_type": "code",
   "execution_count": 18,
   "metadata": {},
   "outputs": [
    {
     "data": {
      "text/plain": [
       "(60000, 784)"
      ]
     },
     "execution_count": 18,
     "metadata": {},
     "output_type": "execute_result"
    }
   ],
   "source": [
    "train_x.shape"
   ]
  },
  {
   "cell_type": "markdown",
   "metadata": {},
   "source": [
    "## Problem 2"
   ]
  },
  {
   "cell_type": "markdown",
   "metadata": {},
   "source": [
    "## Problem 3"
   ]
  }
 ],
 "metadata": {
  "kernelspec": {
   "display_name": "Python 3",
   "language": "python",
   "name": "python3"
  },
  "language_info": {
   "codemirror_mode": {
    "name": "ipython",
    "version": 3
   },
   "file_extension": ".py",
   "mimetype": "text/x-python",
   "name": "python",
   "nbconvert_exporter": "python",
   "pygments_lexer": "ipython3",
   "version": "3.8.10"
  }
 },
 "nbformat": 4,
 "nbformat_minor": 2
}
